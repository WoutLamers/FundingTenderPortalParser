{
 "cells": [
  {
   "cell_type": "code",
   "execution_count": 1,
   "metadata": {},
   "outputs": [],
   "source": [
    "import os\n",
    "import re\n",
    "import json\n",
    "import time\n",
    "import pickle\n",
    "import requests\n",
    "from requests.adapters import HTTPAdapter, Retry\n",
    "from pprint import pp\n",
    "from collections import Counter"
   ]
  },
  {
   "cell_type": "code",
   "execution_count": 2,
   "metadata": {},
   "outputs": [],
   "source": [
    "dirs={}\n",
    "dirs['project']=os.path.abspath('..')+'\\\\'\n",
    "dirs['code']=dirs['project']+'code\\\\'\n",
    "dirs['data']=dirs['project']+'data\\\\'\n",
    "dirs['models']=dirs['project']+'models\\\\'\n",
    "dirs['results']=dirs['project']+'results\\\\'"
   ]
  },
  {
   "cell_type": "code",
   "execution_count": 3,
   "metadata": {},
   "outputs": [],
   "source": [
    "class ftpreq:\n",
    "    def __init__(self, uri, retries=5):\n",
    "        self.u=uri\n",
    "        self.s=requests.Session()\n",
    "        self.retr=Retry(total=retries, backoff_factor=1, status_forcelist=[502, 503, 504], allowed_methods=frozenset([*list(Retry.DEFAULT_ALLOWED_METHODS), 'POST']))\n",
    "        self.s.mount('http://', HTTPAdapter(max_retries=self.retr))\n",
    "\n",
    "    def get(self, params=None, text='***', apiKey='SEDIA', page=1, pageSize=100):\n",
    "        # if explicit parameters provided, take those.\n",
    "        if params:\n",
    "            self.p=params\n",
    "        # if not, construct from defaults, or default overrides.\n",
    "        else:\n",
    "            self.p={'text': text, 'apiKey': apiKey, 'pageSize': str(pageSize), 'pageNumber': str(page)}\n",
    "        self.resp=self.s.get(url=self.u, params=self.p)\n",
    "        return self.resp\n",
    "\n",
    "    def post(self, query=None, params=None, text='***', apiKey='SEDIA', page=1, pageSize=100, languages=[\"en\"], sort={\"field\": \"identifier\", \"order\": \"ASC\"}):\n",
    "        if params:\n",
    "            self.p=params\n",
    "        else:\n",
    "            self.p={'text': text, 'apiKey': apiKey, 'pageSize': str(pageSize), 'pageNumber': str(page)}\n",
    "        \n",
    "        if query:\n",
    "            self.f={\n",
    "                # language and sort was taken from stackoverflow, not sure if it works, not sure if I care.\n",
    "                'query': (None, json.dumps(query), 'application/json'),\n",
    "                'languages': (None, json.dumps(languages), \"application/json\"),\n",
    "                'sort': (None, json.dumps(sort), \"application/json\")\n",
    "            }\n",
    "        else:\n",
    "            self.f=None\n",
    "\n",
    "        self.resp=self.s.post(url=self.u, params=self.p, files=self.f)\n",
    "        \n",
    "        return self.resp"
   ]
  },
  {
   "cell_type": "code",
   "execution_count": 4,
   "metadata": {},
   "outputs": [
    {
     "data": {
      "text/plain": [
       "<Response [200]>"
      ]
     },
     "execution_count": 4,
     "metadata": {},
     "output_type": "execute_result"
    }
   ],
   "source": [
    "# run once, immediately get results?\n",
    "load_from_disk=False\n",
    "if load_from_disk and os.path.isfile(dirs['data']+'facets.pkl'):\n",
    "    with open(dirs['data']+'facets.pkl', 'rb') as f:\n",
    "        facets=pickle.load(f)\n",
    "else:\n",
    "    facets=ftpreq('https://api.tech.ec.europa.eu/search-api/prod/rest/facet').post()\n",
    "    with open(dirs['data']+'facets.pkl', 'wb') as f:\n",
    "        pickle.dump(facets, f)\n",
    "facets"
   ]
  },
  {
   "cell_type": "code",
   "execution_count": 5,
   "metadata": {},
   "outputs": [
    {
     "name": "stdout",
     "output_type": "stream",
     "text": [
      "{'apiVersion': '2.120', 'terms': '*', 'facets': [...]}\n"
     ]
    }
   ],
   "source": [
    "pp(facets.json(), depth=1)"
   ]
  },
  {
   "cell_type": "code",
   "execution_count": 6,
   "metadata": {},
   "outputs": [
    {
     "name": "stdout",
     "output_type": "stream",
     "text": [
      "{'focusArea': 4,\n",
      " 'programmeDivision': 686,\n",
      " 'contractType': 5,\n",
      " 'status': 4,\n",
      " 'type': 6,\n",
      " 'crossCuttingPriorities': 42,\n",
      " 'mainCpv': 2520,\n",
      " 'placesOfDeliveryOrPerformance': 424,\n",
      " 'callIdentifier': 15892,\n",
      " 'frameworkProgramme': 83,\n",
      " 'programmeDivisionProspect': 31,\n",
      " 'geographicalZones': 217,\n",
      " 'procedureType': 20,\n",
      " 'programmePeriod': 2,\n",
      " 'mission': 13,\n",
      " 'destination': 101,\n",
      " 'typeOfMGAs': 72,\n",
      " 'missionGroup': 8,\n",
      " 'destinationGroup': 55,\n",
      " 'cftSubmissionMethodCode': 4,\n",
      " 'cftProcurementType': 3,\n",
      " 'cftPartyLegalEntityId': 111,\n",
      " 'cftEstimatedOverallContractAmount': 373,\n",
      " 'cftEstimatedOverallContractCurrency': 19,\n",
      " 'keywords': 28765}\n"
     ]
    }
   ],
   "source": [
    "# Each list entry of \"facets\" is a dict with \"name\" and list of \"values\" - print number of distinct values per name\n",
    "pp({f['name']: len(f['values']) for f in facets.json().get('facets')})"
   ]
  },
  {
   "cell_type": "code",
   "execution_count": 7,
   "metadata": {},
   "outputs": [],
   "source": [
    "# retrieve relevant facets and identifiers\n",
    "facets.simple = {}\n",
    "for facet in [f['name'] for f in facets.json().get('facets')]:\n",
    "    facets.simple[facet] = {p['value']: {'raw': p['rawValue'], 'count': p['count']} for p in [f for f in facets.json().get('facets') if f['name']==facet][0]['values']}"
   ]
  },
  {
   "cell_type": "code",
   "execution_count": 8,
   "metadata": {},
   "outputs": [
    {
     "data": {
      "text/plain": [
       "{'Horizon 2020 Framework Programme (H2020 - 2014-2020)': {'raw': '31045243',\n",
       "  'count': 98878},\n",
       " 'Horizon Europe (HORIZON)': {'raw': '43108390', 'count': 58822},\n",
       " 'EU External Action (RELEX)': {'raw': '111111', 'count': 6109},\n",
       " 'Connecting Europe Facility (CEF)': {'raw': '43251567', 'count': 5222},\n",
       " 'Erasmus+ (ERASMUS+)': {'raw': '43353764', 'count': 4293},\n",
       " 'European Defence Fund (EDF)': {'raw': '44181033', 'count': 3937},\n",
       " 'Digital Europe Programme (DIGITAL)': {'raw': '43152860', 'count': 3896},\n",
       " 'HORIZON': {'raw': 'HORIZON', 'count': 3752},\n",
       " 'Programme for the Environment and Climate Action (LIFE)': {'raw': '43252405',\n",
       "  'count': 3392},\n",
       " 'Creative Europe Programme (CREA)': {'raw': '43251814', 'count': 2562},\n",
       " 'EU4Health Programme (EU4H)': {'raw': '43332642', 'count': 1591},\n",
       " 'Programme for the Competitiveness of Enterprises and small and medium-sized enterprises (COSME - 2014-2020)': {'raw': '31059643',\n",
       "  'count': 1547},\n",
       " 'Rights, Equality and Citizenship Programme (REC - 2014-2020)': {'raw': '31076817',\n",
       "  'count': 1491},\n",
       " 'Promotion of Agricultural Products (AGRIP)': {'raw': '43298664',\n",
       "  'count': 1477},\n",
       " 'Citizens, Equality, Rights and Values Programme (CERV)': {'raw': '43251589',\n",
       "  'count': 1467},\n",
       " 'Promotion of Agricultural Products (AGRIP - 2014-2020)': {'raw': '31072773',\n",
       "  'count': 1334},\n",
       " 'Single Market Programme (SMP)': {'raw': '43252476', 'count': 1242},\n",
       " 'European Defence Industrial Development Programme (EDIDP - 2014-2020)': {'raw': '31109727',\n",
       "  'count': 1236},\n",
       " 'Internal Security Fund Police (ISFP - 2014-2020)': {'raw': '31077817',\n",
       "  'count': 1159},\n",
       " '3rd Health Programme (3HP - 2014-2020)': {'raw': '31061266', 'count': 1133},\n",
       " 'Justice Programme (JUST - 2014-2020)': {'raw': '31070247', 'count': 997},\n",
       " 'Hercule III (HERC - 2014-2020)': {'raw': '31084392', 'count': 988},\n",
       " 'Europe Direct (ED)': {'raw': '42810547', 'count': 983},\n",
       " 'Euratom Research and Training Programme (EURATOM)': {'raw': '43298916',\n",
       "  'count': 883},\n",
       " 'Union Anti-fraud Programme (EUAF)': {'raw': '43251842', 'count': 779},\n",
       " 'Research Fund for Coal & Steel (RFCS)': {'raw': '43252449', 'count': 736},\n",
       " 'European Social Fund + (ESF) ': {'raw': '43254019', 'count': 700},\n",
       " 'Asylum, Migration and Integration Fund (AMIF - 2014-2020)': {'raw': '31077795',\n",
       "  'count': 697},\n",
       " 'Pilot Projects and Preparatory Actions (PPPA - 2014-2020)': {'raw': '31084250',\n",
       "  'count': 664},\n",
       " 'European Parliament (EP)': {'raw': '43697167', 'count': 660},\n",
       " 'EU Bodies and Agencies (EUBA)': {'raw': '45532249', 'count': 592},\n",
       " 'Erasmus+ Programme (EPLUS - 2014-2020)': {'raw': '31059093', 'count': 545},\n",
       " 'Pilot Projects & Preparation Actions (PPPA)': {'raw': '43637601',\n",
       "  'count': 542},\n",
       " 'Creative Europe (CREA - 2014-2020)': {'raw': '31059083', 'count': 499},\n",
       " 'Innovation Fund (INNOVFUND)': {'raw': '43089234', 'count': 465},\n",
       " 'Internal Security Fund (ISF)': {'raw': '43252368', 'count': 465},\n",
       " 'European Maritime, Fisheries and Aquaculture Fund (EMFAF)': {'raw': '43392145',\n",
       "  'count': 454},\n",
       " 'Union Civil Protection Mechanism (UCPM)': {'raw': '43298203', 'count': 391},\n",
       " 'Research Fund for Coal & Steel (RFCS - 2014-2020)': {'raw': '31061225',\n",
       "  'count': 368},\n",
       " 'Justice Programme (JUST)': {'raw': '43252386', 'count': 344},\n",
       " 'Social Prerogative and Specific Competencies Lines (SOCPL)': {'raw': '43252517',\n",
       "  'count': 339},\n",
       " 'Consumer Programme (CP - 2014-2020)': {'raw': '31061273', 'count': 331},\n",
       " 'Union Civil Protection Mechanism (UCPM - 2014-2020)': {'raw': '31082527',\n",
       "  'count': 329},\n",
       " 'Interregional Innovation Investments Instrument (I3)': {'raw': '44416173',\n",
       "  'count': 325},\n",
       " 'European Maritime and Fisheries Fund (EMFF - 2014-2020)': {'raw': '31098847',\n",
       "  'count': 258},\n",
       " 'CEF2027': {'raw': 'CEF2027', 'count': 234},\n",
       " 'European Solidarity Corps (ESC)': {'raw': '43254037', 'count': 227},\n",
       " 'Asylum, Migration and Integration Fund (AMIF)': {'raw': '43251447',\n",
       "  'count': 223},\n",
       " 'Programme for the Environment and Climate Action (LIFE - 2014-2020)': {'raw': '31107710',\n",
       "  'count': 198},\n",
       " 'EDF': {'raw': 'EDF', 'count': 162},\n",
       " 'Programme for the Protection of the Euro against Counterfeiting (PERICLES IV)': {'raw': '43252433',\n",
       "  'count': 101},\n",
       " 'Europe For Citizens (EFC - 2014-2020)': {'raw': '31059088', 'count': 100},\n",
       " 'ERASMUS2027': {'raw': 'ERASMUS2027', 'count': 87},\n",
       " 'Border Management and Visa Policy Instrument (BMVI)': {'raw': '43251530',\n",
       "  'count': 77},\n",
       " 'Support for information measures relating to the common agricultural policy (IMCAP)': {'raw': '43251882',\n",
       "  'count': 77},\n",
       " 'Internal Security Fund Borders and Visa (ISFB - 2014-2020)': {'raw': '31077833',\n",
       "  'count': 74},\n",
       " 'Renewable Energy Financing Mechanism (RENEWFM)': {'raw': '43253967',\n",
       "  'count': 56},\n",
       " 'Support for information measures relating to the common agricultural policy (IMCAP - 2014-2020)': {'raw': '42198993',\n",
       "  'count': 54},\n",
       " 'Just Transition Mechanism (JTM)': {'raw': '44773066', 'count': 51},\n",
       " 'European Statistics (ESTAT - 2014-2020)': {'raw': '31088049', 'count': 50},\n",
       " 'Information Measures for the EU Cohesion policy (IMREG)': {'raw': '44773133',\n",
       "  'count': 50},\n",
       " 'DIGITAL': {'raw': 'DIGITAL', 'count': 42},\n",
       " 'CERV': {'raw': 'CERV', 'count': 35},\n",
       " 'Neighbourhood, Development and International Cooperation Instrument Global Europe (NDICI)': {'raw': '45876777',\n",
       "  'count': 27},\n",
       " 'EU Aid Volunteers programme (EUAID - 2014-2020)': {'raw': '31059098',\n",
       "  'count': 25},\n",
       " 'Intra-Africa Academic Mobility Scheme (PANAF - 2014-2020)': {'raw': '31075571',\n",
       "  'count': 25},\n",
       " 'European Solidarity Corps (ESC - 2014-2020)': {'raw': '42992790',\n",
       "  'count': 25},\n",
       " 'Technical assistance for ERDF, CF and JTF (ERDF-TA)': {'raw': '46324255',\n",
       "  'count': 25},\n",
       " 'The European Union programme for education, training, youth and sport': {'raw': '31114387',\n",
       "  'count': 18},\n",
       " 'CREA2027': {'raw': 'CREA2027', 'count': 12},\n",
       " 'RFCS2027': {'raw': 'RFCS2027', 'count': 10},\n",
       " 'EU4H': {'raw': 'EU4H', 'count': 8},\n",
       " 'RENEWFM': {'raw': 'RENEWFM', 'count': 8},\n",
       " 'ESF': {'raw': 'ESF', 'count': 7},\n",
       " 'EUBA': {'raw': 'EUBA', 'count': 7},\n",
       " 'PPPA2027': {'raw': 'PPPA2027', 'count': 7},\n",
       " 'I3': {'raw': 'I3', 'count': 6},\n",
       " 'LIFE2027': {'raw': 'LIFE2027', 'count': 6},\n",
       " 'ISF': {'raw': 'ISF', 'count': 5},\n",
       " 'AMIF2027': {'raw': 'AMIF2027', 'count': 2},\n",
       " 'ED': {'raw': 'ED', 'count': 1},\n",
       " 'ERDFTA': {'raw': 'ERDFTA', 'count': 1},\n",
       " 'SMP': {'raw': 'SMP', 'count': 1}}"
      ]
     },
     "execution_count": 8,
     "metadata": {},
     "output_type": "execute_result"
    }
   ],
   "source": [
    "facets.simple['frameworkProgramme']"
   ]
  },
  {
   "cell_type": "code",
   "execution_count": 9,
   "metadata": {},
   "outputs": [
    {
     "name": "stdout",
     "output_type": "stream",
     "text": [
      "Horizon 2020 Framework Programme (H2020 - 2014-2020)\n",
      "Horizon Europe (HORIZON)\n",
      "EU External Action (RELEX)\n",
      "Connecting Europe Facility (CEF)\n",
      "Erasmus+ (ERASMUS+)\n",
      "European Defence Fund (EDF)\n",
      "Digital Europe Programme (DIGITAL)\n",
      "HORIZON\n",
      "Programme for the Environment and Climate Action (LIFE)\n",
      "Creative Europe Programme (CREA)\n",
      "EU4Health Programme (EU4H)\n",
      "Programme for the Competitiveness of Enterprises and small and medium-sized enterprises (COSME - 2014-2020)\n",
      "Rights, Equality and Citizenship Programme (REC - 2014-2020)\n",
      "Promotion of Agricultural Products (AGRIP)\n",
      "Citizens, Equality, Rights and Values Programme (CERV)\n",
      "Promotion of Agricultural Products (AGRIP - 2014-2020)\n",
      "Single Market Programme (SMP)\n",
      "European Defence Industrial Development Programme (EDIDP - 2014-2020)\n",
      "Internal Security Fund Police (ISFP - 2014-2020)\n",
      "3rd Health Programme (3HP - 2014-2020)\n",
      "Justice Programme (JUST - 2014-2020)\n",
      "Hercule III (HERC - 2014-2020)\n",
      "Europe Direct (ED)\n",
      "Euratom Research and Training Programme (EURATOM)\n",
      "Union Anti-fraud Programme (EUAF)\n",
      "Research Fund for Coal & Steel (RFCS)\n",
      "European Social Fund + (ESF) \n",
      "Asylum, Migration and Integration Fund (AMIF - 2014-2020)\n",
      "Pilot Projects and Preparatory Actions (PPPA - 2014-2020)\n",
      "European Parliament (EP)\n",
      "EU Bodies and Agencies (EUBA)\n",
      "Erasmus+ Programme (EPLUS - 2014-2020)\n",
      "Pilot Projects & Preparation Actions (PPPA)\n",
      "Creative Europe (CREA - 2014-2020)\n",
      "Innovation Fund (INNOVFUND)\n",
      "Internal Security Fund (ISF)\n",
      "European Maritime, Fisheries and Aquaculture Fund (EMFAF)\n",
      "Union Civil Protection Mechanism (UCPM)\n",
      "Research Fund for Coal & Steel (RFCS - 2014-2020)\n",
      "Justice Programme (JUST)\n",
      "Social Prerogative and Specific Competencies Lines (SOCPL)\n",
      "Consumer Programme (CP - 2014-2020)\n",
      "Union Civil Protection Mechanism (UCPM - 2014-2020)\n",
      "Interregional Innovation Investments Instrument (I3)\n",
      "European Maritime and Fisheries Fund (EMFF - 2014-2020)\n",
      "CEF2027\n",
      "European Solidarity Corps (ESC)\n",
      "Asylum, Migration and Integration Fund (AMIF)\n",
      "Programme for the Environment and Climate Action (LIFE - 2014-2020)\n",
      "EDF\n",
      "Programme for the Protection of the Euro against Counterfeiting (PERICLES IV)\n",
      "Europe For Citizens (EFC - 2014-2020)\n",
      "ERASMUS2027\n",
      "Border Management and Visa Policy Instrument (BMVI)\n",
      "Support for information measures relating to the common agricultural policy (IMCAP)\n",
      "Internal Security Fund Borders and Visa (ISFB - 2014-2020)\n",
      "Renewable Energy Financing Mechanism (RENEWFM)\n",
      "Support for information measures relating to the common agricultural policy (IMCAP - 2014-2020)\n",
      "Just Transition Mechanism (JTM)\n",
      "European Statistics (ESTAT - 2014-2020)\n",
      "Information Measures for the EU Cohesion policy (IMREG)\n",
      "DIGITAL\n",
      "CERV\n",
      "Neighbourhood, Development and International Cooperation Instrument Global Europe (NDICI)\n",
      "EU Aid Volunteers programme (EUAID - 2014-2020)\n",
      "Intra-Africa Academic Mobility Scheme (PANAF - 2014-2020)\n",
      "European Solidarity Corps (ESC - 2014-2020)\n",
      "Technical assistance for ERDF, CF and JTF (ERDF-TA)\n",
      "The European Union programme for education, training, youth and sport\n",
      "CREA2027\n",
      "RFCS2027\n",
      "EU4H\n",
      "RENEWFM\n",
      "ESF\n",
      "EUBA\n",
      "PPPA2027\n",
      "I3\n",
      "LIFE2027\n",
      "ISF\n",
      "AMIF2027\n",
      "ED\n",
      "ERDFTA\n",
      "SMP\n"
     ]
    }
   ],
   "source": [
    "load_from_disk=False\n",
    "if load_from_disk and os.path.isfile(dirs['data']+'search_allresults.json'):\n",
    "    print(\"Loading from disk\")\n",
    "    with open(dirs['data']+'search_allresults.json', 'rb') as f:\n",
    "        results=json.load(f)\n",
    "else:\n",
    "\n",
    "    results = {}\n",
    "    for programme in facets.simple['frameworkProgramme'].keys():\n",
    "    # for programme in ['Digital Europe Programme (DIGITAL)', 'Horizon Europe (HORIZON)']:\n",
    "        print(programme)\n",
    "        raw = facets.simple['frameworkProgramme'][programme]['raw']\n",
    "\n",
    "        dir = dirs['data']+str(raw)+'\\\\'\n",
    "        if not os.path.isdir(dir):\n",
    "            os.makedirs(dir)\n",
    "        dir = dir+'search\\\\'\n",
    "        if not os.path.isdir(dir):\n",
    "            os.makedirs(dir)\n",
    "\n",
    "        q={\"bool\": {\"must\": [\n",
    "            {\"terms\": {\"type\": [\"0\", \"1\", \"2\", \"8\"]}},\n",
    "            {\"terms\": {\"frameworkProgramme\": [raw]}},\n",
    "        ]}}\n",
    "\n",
    "        search=ftpreq('https://api.tech.ec.europa.eu/search-api/prod/rest/search')\n",
    "        resp = search.post(q)\n",
    "        data = resp.json()\n",
    "\n",
    "        result=data['results']\n",
    "\n",
    "        p = 1\n",
    "        with open(dir+'search_page'+str(p)+'.json', 'w') as f:\n",
    "            json.dump(data, f)\n",
    "\n",
    "        remaining = data['totalResults']-data['pageSize']\n",
    "        \n",
    "        while remaining > 0:\n",
    "            p+=1\n",
    "            resp = search.post(q, page=p)\n",
    "            data = resp.json()\n",
    "            result.extend(data['results'])\n",
    "            with open(dir+'search_page'+str(p)+'.json', 'w') as f:\n",
    "                json.dump(data, f)\n",
    "            remaining = remaining-data['pageSize']\n",
    "\n",
    "        # with open(dir+'search_results.json', 'w') as f:\n",
    "        #     json.dump({'results': result}, f)\n",
    "\n",
    "        results[programme]=result\n",
    "\n",
    "    with open(dirs['data']+'search_allresults.json', 'w') as f:\n",
    "        json.dump(results, f)"
   ]
  },
  {
   "cell_type": "code",
   "execution_count": 10,
   "metadata": {},
   "outputs": [
    {
     "data": {
      "text/plain": [
       "Counter({'1': 315})"
      ]
     },
     "execution_count": 10,
     "metadata": {},
     "output_type": "execute_result"
    }
   ],
   "source": [
    "# only cl4 non-cascade for now\n",
    "test = [x for x in results['Horizon Europe (HORIZON)'] if x['metadata']['identifier'][0].startswith('HORIZON-CL4-') and x['metadata']['type'][0]!='8']\n",
    "Counter([x['metadata']['type'][0] for x in test])"
   ]
  },
  {
   "cell_type": "code",
   "execution_count": 11,
   "metadata": {},
   "outputs": [
    {
     "data": {
      "text/plain": [
       "[]"
      ]
     },
     "execution_count": 11,
     "metadata": {},
     "output_type": "execute_result"
    }
   ],
   "source": [
    "[k for k,v in Counter([x['metadata']['identifier'][0] for x in test]).items() if v!=1]"
   ]
  },
  {
   "cell_type": "markdown",
   "metadata": {},
   "source": [
    "Note - we changed sorting from relevance to identifier, as apparently relevance did not result in a stable order and thus produced duplicates & omissions. Note that callIdentifiers in facet search contain a lot of non-call identifiers due to the database containing depreceated entries (cursory glance identifies these as type=11, the projects, that shouldn't be in here)\n",
    "\n",
    "Now, does our data cover all callIdentifiers?"
   ]
  },
  {
   "cell_type": "code",
   "execution_count": 12,
   "metadata": {},
   "outputs": [
    {
     "name": "stdout",
     "output_type": "stream",
     "text": [
      "39\n",
      "True\n",
      "31\n",
      "True\n"
     ]
    }
   ],
   "source": [
    "CL4_calls_facets = list(set([k for k in facets.simple['callIdentifier'].keys() if k.startswith('HORIZON-CL4-')]))\n",
    "CL4_calls_search = list(set([x['metadata']['callIdentifier'][0] for x in test]))\n",
    "overlap = [e in CL4_calls_facets for e in CL4_calls_search]\n",
    "print(len(overlap))\n",
    "print(len(overlap)==sum(overlap))\n",
    "CL4_calls_facets_pruned = list(set([c for c in CL4_calls_facets if re.search(r'[A-Z]-[0-9]{2}$', c)]))\n",
    "overlap = [e in CL4_calls_search for e in CL4_calls_facets_pruned]\n",
    "print(len(overlap))\n",
    "print(len(overlap)==sum(overlap))"
   ]
  },
  {
   "cell_type": "markdown",
   "metadata": {},
   "source": [
    "All good. In theory, we are now ready to use the returned list of searched topics to start parsing their details json.\n",
    "\n",
    "Discussion point: do we want to source call identifiers from the facetsearch api? I'm leaning towards no, because of the pollution by type=11 entries listing topics as parent call identifier. Still, at least facets is stable, while theoretically search may encounter changes as we are running the search. For me, that's a risk I'm willing to take."
   ]
  },
  {
   "cell_type": "code",
   "execution_count": 13,
   "metadata": {},
   "outputs": [],
   "source": [
    "#repair the json issue.\n",
    "def properly_get_topicDetails_json(url):\n",
    "    front, back = url.split('/topicDetails/')\n",
    "    url = front + '/topicDetails/' + back.lower()\n",
    "    return ftpreq(url).get()"
   ]
  },
  {
   "cell_type": "markdown",
   "metadata": {},
   "source": [
    "Seems to work. Now to save all these jsons to disk and process them."
   ]
  },
  {
   "cell_type": "code",
   "execution_count": 14,
   "metadata": {},
   "outputs": [
    {
     "name": "stdout",
     "output_type": "stream",
     "text": [
      "Horizon 2020 Framework Programme (H2020 - 2014-2020)                                   \n",
      "Horizon Europe (HORIZON)                                                              \n",
      "EU External Action (RELEX)                                                                        \n",
      "Connecting Europe Facility (CEF)                                   \n",
      "Erasmus+ (ERASMUS+)                                                                   \n",
      "European Defence Fund (EDF)                                                                     \n",
      "Digital Europe Programme (DIGITAL)                                                \n",
      "HORIZON                                                                                         \n",
      "Programme for the Environment and Climate Action (LIFE)                                   \n",
      "Creative Europe Programme (CREA)                                                  \n",
      "EU4Health Programme (EU4H)                                                          \n",
      "Programme for the Competitiveness of Enterprises and small and medium-sized enterprises (COSME - 2014-2020)                                   \n",
      "Rights, Equality and Citizenship Programme (REC - 2014-2020)                                   \n",
      "Promotion of Agricultural Products (AGRIP)                                   \n",
      "Citizens, Equality, Rights and Values Programme (CERV)                                   \n",
      "Promotion of Agricultural Products (AGRIP - 2014-2020)                                   \n",
      "Single Market Programme (SMP)                                   \n",
      "European Defence Industrial Development Programme (EDIDP - 2014-2020)                                   \n",
      "Internal Security Fund Police (ISFP - 2014-2020)                                   \n",
      "3rd Health Programme (3HP - 2014-2020)                                   \n",
      "Justice Programme (JUST - 2014-2020)                                   \n",
      "Hercule III (HERC - 2014-2020)                                    \n",
      "Europe Direct (ED)                                            \n",
      "Euratom Research and Training Programme (EURATOM)                                   \n",
      "Union Anti-fraud Programme (EUAF)                                         \n",
      "Research Fund for Coal & Steel (RFCS)                                   \n",
      "European Social Fund + (ESF)                                    \n",
      "Asylum, Migration and Integration Fund (AMIF - 2014-2020)                                   \n",
      "Pilot Projects and Preparatory Actions (PPPA - 2014-2020)                                   \n",
      "European Parliament (EP)                                             \n",
      "EU Bodies and Agencies (EUBA)                                                         \n",
      "Erasmus+ Programme (EPLUS - 2014-2020)                                    \n",
      "Pilot Projects & Preparation Actions (PPPA)                                   \n",
      "Creative Europe (CREA - 2014-2020)                                               \n",
      "Innovation Fund (INNOVFUND)                                    \n",
      "Internal Security Fund (ISF)                                                     \n",
      "European Maritime, Fisheries and Aquaculture Fund (EMFAF)                                   \n",
      "Union Civil Protection Mechanism (UCPM)                                             \n",
      "Research Fund for Coal & Steel (RFCS - 2014-2020)                                   \n",
      "Justice Programme (JUST)                                   \n",
      "Social Prerogative and Specific Competencies Lines (SOCPL)                                   \n",
      "Consumer Programme (CP - 2014-2020)                                   \n",
      "Union Civil Protection Mechanism (UCPM - 2014-2020)                                   \n",
      "Interregional Innovation Investments Instrument (I3)                                   \n",
      "European Maritime and Fisheries Fund (EMFF - 2014-2020)                                   \n",
      "CEF2027                                                 \n",
      "European Solidarity Corps (ESC)                                   \n",
      "Asylum, Migration and Integration Fund (AMIF)                                   \n",
      "Programme for the Environment and Climate Action (LIFE - 2014-2020)                                   \n",
      "EDF                                                      \n",
      "Programme for the Protection of the Euro against Counterfeiting (PERICLES IV)                                   \n",
      "Europe For Citizens (EFC - 2014-2020)                                   \n",
      "ERASMUS2027                                             \n",
      "Border Management and Visa Policy Instrument (BMVI)                                   \n",
      "Support for information measures relating to the common agricultural policy (IMCAP)                                   \n",
      "Internal Security Fund Borders and Visa (ISFB - 2014-2020)                                   \n",
      "Renewable Energy Financing Mechanism (RENEWFM)                                   \n",
      "Support for information measures relating to the common agricultural policy (IMCAP - 2014-2020)                                   \n",
      "Just Transition Mechanism (JTM)                                   \n",
      "European Statistics (ESTAT - 2014-2020)                                         \n",
      "Information Measures for the EU Cohesion policy (IMREG)                                   \n",
      "DIGITAL                                                    \n",
      "CERV                                   \n",
      "Neighbourhood, Development and International Cooperation Instrument Global Europe (NDICI)                                   \n",
      "EU Aid Volunteers programme (EUAID - 2014-2020)                                   \n",
      "Intra-Africa Academic Mobility Scheme (PANAF - 2014-2020)                                   \n",
      "European Solidarity Corps (ESC - 2014-2020)                                   \n",
      "Technical assistance for ERDF, CF and JTF (ERDF-TA)                                   \n",
      "The European Union programme for education, training, youth and sport                                   \n",
      "CREA2027                                   \n",
      "RFCS2027                                   \n",
      "EU4H                                   \n",
      "RENEWFM                                   \n",
      "ESF                                   \n",
      "EUBA                                   \n",
      "PPPA2027                                   \n",
      "I3                                   \n",
      "LIFE2027                                   \n",
      "ISF                                   \n",
      "AMIF2027                                   \n",
      "ED                                   \n",
      "ERDFTA                                   \n",
      "SMP                                   \n"
     ]
    }
   ],
   "source": [
    "load_from_disk=False\n",
    "details = {}\n",
    "failed = {}\n",
    "nojson = {}\n",
    "for programme in facets.simple['frameworkProgramme'].keys():\n",
    "    print(programme+'                                   ')\n",
    "    details[programme]={}\n",
    "    failed[programme]=[]\n",
    "    nojson[programme]=[]\n",
    "    raw = facets.simple['frameworkProgramme'][programme]['raw']\n",
    "    dir=dirs['data']+str(raw)+'\\\\'\n",
    "    i=0\n",
    "    for r in results[programme]:\n",
    "        i+=1\n",
    "        if r['metadata']['type']!=['8'] and len(r['metadata']['identifier'])==1 and r['url'].endswith('.json'):    # ignore cascade for now\n",
    "            identifier=r['metadata']['identifier'][0]\n",
    "            print(str(i)+' / '+str(len(results[programme]))+'  '+identifier, end='                                   \\r') #ugly print to monitor progress\n",
    "            if load_from_disk and os.path.isfile(dir+identifier+'.json'):\n",
    "                with open(dir+identifier+'.json', 'r') as f:\n",
    "                    details[programme][identifier]=json.load(f)\n",
    "            else:\n",
    "                try:\n",
    "                    resp=properly_get_topicDetails_json(r['url'])\n",
    "                    if resp.status_code==200:\n",
    "                        data=resp.json()\n",
    "                        with open(dir+identifier+'.json', 'w') as f:\n",
    "                            json.dump(data, f)\n",
    "                        details[programme][identifier]=data\n",
    "                    else:\n",
    "                        failed[programme].append(identifier)\n",
    "                    time.sleep(0.1) #brief nap?\n",
    "                except:\n",
    "                    failed[programme].append(identifier)\n",
    "        elif r['metadata']['type']!=['8'] and len(r['metadata']['identifier'])==1 and not r['url'].endswith('.json'):\n",
    "            nojson[programme].append(identifier)"
   ]
  },
  {
   "cell_type": "code",
   "execution_count": 15,
   "metadata": {},
   "outputs": [
    {
     "name": "stdout",
     "output_type": "stream",
     "text": [
      "{'Horizon Europe (HORIZON)': 5,\n",
      " 'Programme for the Environment and Climate Action (LIFE)': 1,\n",
      " 'Europe Direct (ED)': 1}\n",
      "{'EU External Action (RELEX)': 2600}\n"
     ]
    }
   ],
   "source": [
    "pp({k:len(v) for k,v in failed.items() if len(v)>0})\n",
    "pp({k:len(v) for k,v in nojson.items() if len(v)>0})"
   ]
  },
  {
   "cell_type": "code",
   "execution_count": 16,
   "metadata": {},
   "outputs": [
    {
     "data": {
      "text/plain": [
       "2254"
      ]
     },
     "execution_count": 16,
     "metadata": {},
     "output_type": "execute_result"
    }
   ],
   "source": [
    "len(details['Horizon Europe (HORIZON)'])"
   ]
  },
  {
   "cell_type": "code",
   "execution_count": 17,
   "metadata": {},
   "outputs": [
    {
     "data": {
      "text/plain": [
       "2259"
      ]
     },
     "execution_count": 17,
     "metadata": {},
     "output_type": "execute_result"
    }
   ],
   "source": [
    "len([r for r in results['Horizon Europe (HORIZON)'] if r['metadata']['type']!=['8']])"
   ]
  },
  {
   "cell_type": "code",
   "execution_count": null,
   "metadata": {},
   "outputs": [],
   "source": []
  }
 ],
 "metadata": {
  "kernelspec": {
   "display_name": "Python 3",
   "language": "python",
   "name": "python3"
  },
  "language_info": {
   "codemirror_mode": {
    "name": "ipython",
    "version": 3
   },
   "file_extension": ".py",
   "mimetype": "text/x-python",
   "name": "python",
   "nbconvert_exporter": "python",
   "pygments_lexer": "ipython3",
   "version": "3.12.4"
  }
 },
 "nbformat": 4,
 "nbformat_minor": 2
}
